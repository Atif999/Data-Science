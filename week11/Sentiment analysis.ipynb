{
 "cells": [
  {
   "cell_type": "code",
   "execution_count": 1,
   "metadata": {
    "collapsed": true
   },
   "outputs": [],
   "source": [
    "import numpy as np\n",
    "import matplotlib.pyplot as plt\n",
    "import pandas as pd"
   ]
  },
  {
   "cell_type": "code",
   "execution_count": 2,
   "metadata": {},
   "outputs": [
    {
     "data": {
      "text/html": [
       "<div>\n",
       "<style>\n",
       "    .dataframe thead tr:only-child th {\n",
       "        text-align: right;\n",
       "    }\n",
       "\n",
       "    .dataframe thead th {\n",
       "        text-align: left;\n",
       "    }\n",
       "\n",
       "    .dataframe tbody tr th {\n",
       "        vertical-align: top;\n",
       "    }\n",
       "</style>\n",
       "<table border=\"1\" class=\"dataframe\">\n",
       "  <thead>\n",
       "    <tr style=\"text-align: right;\">\n",
       "      <th></th>\n",
       "      <th>PhraseId</th>\n",
       "      <th>SentenceId</th>\n",
       "      <th>Phrase</th>\n",
       "      <th>Sentiment</th>\n",
       "    </tr>\n",
       "  </thead>\n",
       "  <tbody>\n",
       "    <tr>\n",
       "      <th>0</th>\n",
       "      <td>1</td>\n",
       "      <td>1</td>\n",
       "      <td>A series of escapades demonstrating the adage ...</td>\n",
       "      <td>1</td>\n",
       "    </tr>\n",
       "    <tr>\n",
       "      <th>1</th>\n",
       "      <td>2</td>\n",
       "      <td>1</td>\n",
       "      <td>A series of escapades demonstrating the adage ...</td>\n",
       "      <td>2</td>\n",
       "    </tr>\n",
       "    <tr>\n",
       "      <th>2</th>\n",
       "      <td>3</td>\n",
       "      <td>1</td>\n",
       "      <td>A series</td>\n",
       "      <td>2</td>\n",
       "    </tr>\n",
       "    <tr>\n",
       "      <th>3</th>\n",
       "      <td>4</td>\n",
       "      <td>1</td>\n",
       "      <td>A</td>\n",
       "      <td>2</td>\n",
       "    </tr>\n",
       "    <tr>\n",
       "      <th>4</th>\n",
       "      <td>5</td>\n",
       "      <td>1</td>\n",
       "      <td>series</td>\n",
       "      <td>2</td>\n",
       "    </tr>\n",
       "  </tbody>\n",
       "</table>\n",
       "</div>"
      ],
      "text/plain": [
       "   PhraseId  SentenceId                                             Phrase  \\\n",
       "0         1           1  A series of escapades demonstrating the adage ...   \n",
       "1         2           1  A series of escapades demonstrating the adage ...   \n",
       "2         3           1                                           A series   \n",
       "3         4           1                                                  A   \n",
       "4         5           1                                             series   \n",
       "\n",
       "   Sentiment  \n",
       "0          1  \n",
       "1          2  \n",
       "2          2  \n",
       "3          2  \n",
       "4          2  "
      ]
     },
     "execution_count": 2,
     "metadata": {},
     "output_type": "execute_result"
    }
   ],
   "source": [
    "data=pd.read_csv('train.tsv', sep='\\t')\n",
    "data.head()"
   ]
  },
  {
   "cell_type": "code",
   "execution_count": 3,
   "metadata": {},
   "outputs": [
    {
     "name": "stdout",
     "output_type": "stream",
     "text": [
      "<class 'pandas.core.frame.DataFrame'>\n",
      "RangeIndex: 156060 entries, 0 to 156059\n",
      "Data columns (total 4 columns):\n",
      "PhraseId      156060 non-null int64\n",
      "SentenceId    156060 non-null int64\n",
      "Phrase        156060 non-null object\n",
      "Sentiment     156060 non-null int64\n",
      "dtypes: int64(3), object(1)\n",
      "memory usage: 4.8+ MB\n"
     ]
    }
   ],
   "source": [
    "data.info()"
   ]
  },
  {
   "cell_type": "code",
   "execution_count": 4,
   "metadata": {},
   "outputs": [
    {
     "data": {
      "image/png": "[encoded data removed]",
      "text/plain": [
       "<matplotlib.figure.Figure at 0x224b082f3c8>"
      ]
     },
     "metadata": {},
     "output_type": "display_data"
    }
   ],
   "source": [
    "Sentiment_count=data.groupby('Sentiment').count()\n",
    "plt.bar(Sentiment_count.index.values, Sentiment_count['Phrase'])\n",
    "plt.xlabel('Review Sentiments')\n",
    "plt.ylabel('Number of Review')\n",
    "plt.show()"
   ]
  },
  {
   "cell_type": "code",
   "execution_count": 5,
   "metadata": {},
   "outputs": [
    {
     "name": "stdout",
     "output_type": "stream",
     "text": [
      "Total unique words: 15240\n"
     ]
    },
    {
     "data": {
      "image/png": "[encoded data removed]",
      "text/plain": [
       "<matplotlib.figure.Figure at 0x224b23f1da0>"
      ]
     },
     "metadata": {},
     "output_type": "display_data"
    }
   ],
   "source": [
    "from sklearn.feature_extraction.text import CountVectorizer\n",
    "vect=CountVectorizer()\n",
    "d=vect.fit_transform(data.Phrase)\n",
    "print('Total unique words:', len(vect.get_feature_names()))\n",
    "plt.boxplot(data.Sentiment)\n",
    "plt.xlabel('Rank')\n",
    "plt.ylabel('Sentiment')\n",
    "plt.show();"
   ]
  },
  {
   "cell_type": "code",
   "execution_count": 6,
   "metadata": {},
   "outputs": [
    {
     "name": "stdout",
     "output_type": "stream",
     "text": [
      "4    7072\n",
      "3    7072\n",
      "2    7072\n",
      "1    7072\n",
      "0    7072\n",
      "Name: Sentiment, dtype: int64\n"
     ]
    },
    {
     "data": {
      "image/png": "[encoded data removed]",
      "text/plain": [
       "<matplotlib.figure.Figure at 0x224b2553a20>"
      ]
     },
     "metadata": {},
     "output_type": "display_data"
    }
   ],
   "source": [
    "data2=data.sample(frac=1).groupby('Sentiment', sort=False).head(7072)\n",
    "print(data2.Sentiment.value_counts())\n",
    "plt.boxplot(data2.Sentiment)\n",
    "plt.show();"
   ]
  },
  {
   "cell_type": "code",
   "execution_count": 7,
   "metadata": {
    "collapsed": true
   },
   "outputs": [],
   "source": [
    "# data=data2\n",
    "# from bs4 import BeautifulSoup\n",
    "# data.Phrase=data.Phrase.apply(lambda x: BeautifulSoup(x, \"lxml\").get_text())"
   ]
  },
  {
   "cell_type": "code",
   "execution_count": 8,
   "metadata": {},
   "outputs": [
    {
     "data": {
      "text/html": [
       "<div>\n",
       "<style>\n",
       "    .dataframe thead tr:only-child th {\n",
       "        text-align: right;\n",
       "    }\n",
       "\n",
       "    .dataframe thead th {\n",
       "        text-align: left;\n",
       "    }\n",
       "\n",
       "    .dataframe tbody tr th {\n",
       "        vertical-align: top;\n",
       "    }\n",
       "</style>\n",
       "<table border=\"1\" class=\"dataframe\">\n",
       "  <thead>\n",
       "    <tr style=\"text-align: right;\">\n",
       "      <th></th>\n",
       "      <th>PhraseId</th>\n",
       "      <th>SentenceId</th>\n",
       "      <th>Phrase</th>\n",
       "      <th>Sentiment</th>\n",
       "    </tr>\n",
       "  </thead>\n",
       "  <tbody>\n",
       "    <tr>\n",
       "      <th>82383</th>\n",
       "      <td>82384</td>\n",
       "      <td>4255</td>\n",
       "      <td>a lot of nubile young actors in a film about c...</td>\n",
       "      <td>2</td>\n",
       "    </tr>\n",
       "    <tr>\n",
       "      <th>102372</th>\n",
       "      <td>102373</td>\n",
       "      <td>5387</td>\n",
       "      <td>it s so muddled and derivative that few will b...</td>\n",
       "      <td>2</td>\n",
       "    </tr>\n",
       "    <tr>\n",
       "      <th>72151</th>\n",
       "      <td>72152</td>\n",
       "      <td>3685</td>\n",
       "      <td>the stops</td>\n",
       "      <td>2</td>\n",
       "    </tr>\n",
       "    <tr>\n",
       "      <th>146558</th>\n",
       "      <td>146559</td>\n",
       "      <td>7972</td>\n",
       "      <td>her tough  funny  rather chaotic show is nt s...</td>\n",
       "      <td>2</td>\n",
       "    </tr>\n",
       "    <tr>\n",
       "      <th>43592</th>\n",
       "      <td>43593</td>\n",
       "      <td>2110</td>\n",
       "      <td>of maleridden angst</td>\n",
       "      <td>1</td>\n",
       "    </tr>\n",
       "  </tbody>\n",
       "</table>\n",
       "</div>"
      ],
      "text/plain": [
       "        PhraseId  SentenceId  \\\n",
       "82383      82384        4255   \n",
       "102372    102373        5387   \n",
       "72151      72152        3685   \n",
       "146558    146559        7972   \n",
       "43592      43593        2110   \n",
       "\n",
       "                                                   Phrase  Sentiment  \n",
       "82383   a lot of nubile young actors in a film about c...          2  \n",
       "102372  it s so muddled and derivative that few will b...          2  \n",
       "72151                                           the stops          2  \n",
       "146558   her tough  funny  rather chaotic show is nt s...          2  \n",
       "43592                                 of maleridden angst          1  "
      ]
     },
     "execution_count": 8,
     "metadata": {},
     "output_type": "execute_result"
    }
   ],
   "source": [
    "import string\n",
    "data=data2.copy()\n",
    "def remove_puc(text):\n",
    "    no_puc=''.join([c for c in text if c not in string.punctuation])\n",
    "    return no_puc\n",
    "data.Phrase=data.Phrase.apply(lambda x:remove_puc(x))\n",
    "data.head()"
   ]
  },
  {
   "cell_type": "code",
   "execution_count": 9,
   "metadata": {},
   "outputs": [
    {
     "data": {
      "text/html": [
       "<div>\n",
       "<style>\n",
       "    .dataframe thead tr:only-child th {\n",
       "        text-align: right;\n",
       "    }\n",
       "\n",
       "    .dataframe thead th {\n",
       "        text-align: left;\n",
       "    }\n",
       "\n",
       "    .dataframe tbody tr th {\n",
       "        vertical-align: top;\n",
       "    }\n",
       "</style>\n",
       "<table border=\"1\" class=\"dataframe\">\n",
       "  <thead>\n",
       "    <tr style=\"text-align: right;\">\n",
       "      <th></th>\n",
       "      <th>PhraseId</th>\n",
       "      <th>SentenceId</th>\n",
       "      <th>Phrase</th>\n",
       "      <th>Sentiment</th>\n",
       "    </tr>\n",
       "  </thead>\n",
       "  <tbody>\n",
       "    <tr>\n",
       "      <th>14292</th>\n",
       "      <td>14293</td>\n",
       "      <td>616</td>\n",
       "      <td>[an, insultingly, inept, and, artificial, exam...</td>\n",
       "      <td>0</td>\n",
       "    </tr>\n",
       "    <tr>\n",
       "      <th>39902</th>\n",
       "      <td>39903</td>\n",
       "      <td>1906</td>\n",
       "      <td>[genre, a, bad, name]</td>\n",
       "      <td>0</td>\n",
       "    </tr>\n",
       "    <tr>\n",
       "      <th>82696</th>\n",
       "      <td>82697</td>\n",
       "      <td>4270</td>\n",
       "      <td>[this, is, one, of, the, biggest, disappointme...</td>\n",
       "      <td>0</td>\n",
       "    </tr>\n",
       "    <tr>\n",
       "      <th>5674</th>\n",
       "      <td>5675</td>\n",
       "      <td>225</td>\n",
       "      <td>[the, experience, of, staring, at, a, blank, s...</td>\n",
       "      <td>0</td>\n",
       "    </tr>\n",
       "    <tr>\n",
       "      <th>152343</th>\n",
       "      <td>152344</td>\n",
       "      <td>8313</td>\n",
       "      <td>[see, why, any, actor, of, talent, would, ever...</td>\n",
       "      <td>0</td>\n",
       "    </tr>\n",
       "    <tr>\n",
       "      <th>90823</th>\n",
       "      <td>90824</td>\n",
       "      <td>4726</td>\n",
       "      <td>[all, this, visual, trickery, stops, being, cl...</td>\n",
       "      <td>0</td>\n",
       "    </tr>\n",
       "    <tr>\n",
       "      <th>44619</th>\n",
       "      <td>44620</td>\n",
       "      <td>2163</td>\n",
       "      <td>[enough, said, except, film, overboard]</td>\n",
       "      <td>0</td>\n",
       "    </tr>\n",
       "    <tr>\n",
       "      <th>34328</th>\n",
       "      <td>34329</td>\n",
       "      <td>1611</td>\n",
       "      <td>[of, being, overrun, by, corrupt, and, hedonis...</td>\n",
       "      <td>0</td>\n",
       "    </tr>\n",
       "    <tr>\n",
       "      <th>99944</th>\n",
       "      <td>99945</td>\n",
       "      <td>5244</td>\n",
       "      <td>[really, horrible, drek]</td>\n",
       "      <td>0</td>\n",
       "    </tr>\n",
       "    <tr>\n",
       "      <th>121114</th>\n",
       "      <td>121115</td>\n",
       "      <td>6486</td>\n",
       "      <td>[but, it, also, does, the, absolute, last, thi...</td>\n",
       "      <td>0</td>\n",
       "    </tr>\n",
       "  </tbody>\n",
       "</table>\n",
       "</div>"
      ],
      "text/plain": [
       "        PhraseId  SentenceId  \\\n",
       "14292      14293         616   \n",
       "39902      39903        1906   \n",
       "82696      82697        4270   \n",
       "5674        5675         225   \n",
       "152343    152344        8313   \n",
       "90823      90824        4726   \n",
       "44619      44620        2163   \n",
       "34328      34329        1611   \n",
       "99944      99945        5244   \n",
       "121114    121115        6486   \n",
       "\n",
       "                                                   Phrase  Sentiment  \n",
       "14292   [an, insultingly, inept, and, artificial, exam...          0  \n",
       "39902                               [genre, a, bad, name]          0  \n",
       "82696   [this, is, one, of, the, biggest, disappointme...          0  \n",
       "5674    [the, experience, of, staring, at, a, blank, s...          0  \n",
       "152343  [see, why, any, actor, of, talent, would, ever...          0  \n",
       "90823   [all, this, visual, trickery, stops, being, cl...          0  \n",
       "44619             [enough, said, except, film, overboard]          0  \n",
       "34328   [of, being, overrun, by, corrupt, and, hedonis...          0  \n",
       "99944                            [really, horrible, drek]          0  \n",
       "121114  [but, it, also, does, the, absolute, last, thi...          0  "
      ]
     },
     "execution_count": 9,
     "metadata": {},
     "output_type": "execute_result"
    }
   ],
   "source": [
    "from nltk.tokenize import word_tokenize\n",
    "data.Phrase=data.Phrase.apply(lambda x: word_tokenize(x.lower()))\n",
    "data.tail(10)"
   ]
  },
  {
   "cell_type": "code",
   "execution_count": null,
   "metadata": {
    "collapsed": true
   },
   "outputs": [],
   "source": []
  },
  {
   "cell_type": "code",
   "execution_count": 11,
   "metadata": {},
   "outputs": [
    {
     "name": "stdout",
     "output_type": "stream",
     "text": [
      "[('the', 13974), ('a', 10967), ('and', 10072), ('of', 9246), ('to', 6412), ('s', 4569), ('is', 4532), ('that', 3930), ('in', 3828), ('it', 3448), ('as', 2565), ('with', 2329), ('film', 2151), ('for', 2050), ('movie', 2013), ('its', 1968), ('an', 1963), ('this', 1811), ('you', 1458), ('be', 1366)]\n",
      "('the', 13974) ('a', 10967) ('and', 10072) ('of', 9246) ('to', 6412) ('s', 4569) ('is', 4532) ('that', 3930) ('in', 3828) ('it', 3448) ('as', 2565) ('with', 2329) ('film', 2151) ('for', 2050) ('movie', 2013) ('its', 1968) ('an', 1963) ('this', 1811) ('you', 1458) ('be', 1366)\n",
      "<zip object at 0x00000224C2B8F588>\n",
      "('the', 'a', 'and', 'of', 'to', 's', 'is', 'that', 'in', 'it', 'as', 'with', 'film', 'for', 'movie', 'its', 'an', 'this', 'you', 'be') (13974, 10967, 10072, 9246, 6412, 4569, 4532, 3930, 3828, 3448, 2565, 2329, 2151, 2050, 2013, 1968, 1963, 1811, 1458, 1366)\n"
     ]
    },
    {
     "data": {
      "image/png": "[encoded data removed]",
      "text/plain": [
       "<matplotlib.figure.Figure at 0x224c2a19c18>"
      ]
     },
     "metadata": {},
     "output_type": "display_data"
    }
   ],
   "source": [
    "from nltk.probability import FreqDist\n",
    "fdist=data.Phrase.values\n",
    "dist=FreqDist(word.lower() for l in list(fdist) for word in l)\n",
    "print(dist.most_common(n=20))\n",
    "print(*dist.most_common(n=20))\n",
    "print(zip(*dist.most_common(n=20)))\n",
    "print(*zip(*dist.most_common(n=20)))\n",
    "plt.barh(*zip(*dist.most_common(n=20)));\n",
    "plt.show();"
   ]
  },
  {
   "cell_type": "code",
   "execution_count": 11,
   "metadata": {},
   "outputs": [
    {
     "data": {
      "text/html": [
       "<div>\n",
       "<style>\n",
       "    .dataframe thead tr:only-child th {\n",
       "        text-align: right;\n",
       "    }\n",
       "\n",
       "    .dataframe thead th {\n",
       "        text-align: left;\n",
       "    }\n",
       "\n",
       "    .dataframe tbody tr th {\n",
       "        vertical-align: top;\n",
       "    }\n",
       "</style>\n",
       "<table border=\"1\" class=\"dataframe\">\n",
       "  <thead>\n",
       "    <tr style=\"text-align: right;\">\n",
       "      <th></th>\n",
       "      <th>PhraseId</th>\n",
       "      <th>SentenceId</th>\n",
       "      <th>Phrase</th>\n",
       "      <th>Sentiment</th>\n",
       "    </tr>\n",
       "  </thead>\n",
       "  <tbody>\n",
       "    <tr>\n",
       "      <th>53075</th>\n",
       "      <td>53076</td>\n",
       "      <td>2632</td>\n",
       "      <td>[one]</td>\n",
       "      <td>1</td>\n",
       "    </tr>\n",
       "    <tr>\n",
       "      <th>66682</th>\n",
       "      <td>66683</td>\n",
       "      <td>3384</td>\n",
       "      <td>[carrying, bag, golf, clubs, one, shoulder]</td>\n",
       "      <td>2</td>\n",
       "    </tr>\n",
       "    <tr>\n",
       "      <th>46817</th>\n",
       "      <td>46818</td>\n",
       "      <td>2279</td>\n",
       "      <td>[made, film, undeniably, worthy, devastating, ...</td>\n",
       "      <td>3</td>\n",
       "    </tr>\n",
       "    <tr>\n",
       "      <th>86101</th>\n",
       "      <td>86102</td>\n",
       "      <td>4457</td>\n",
       "      <td>[myers, turned, franchise, movie, version, ado...</td>\n",
       "      <td>2</td>\n",
       "    </tr>\n",
       "    <tr>\n",
       "      <th>37922</th>\n",
       "      <td>37923</td>\n",
       "      <td>1803</td>\n",
       "      <td>[pretty, good, thing]</td>\n",
       "      <td>3</td>\n",
       "    </tr>\n",
       "    <tr>\n",
       "      <th>85602</th>\n",
       "      <td>85603</td>\n",
       "      <td>4427</td>\n",
       "      <td>[jaunt, memory, lane, teens, young, adults, gr...</td>\n",
       "      <td>2</td>\n",
       "    </tr>\n",
       "    <tr>\n",
       "      <th>110096</th>\n",
       "      <td>110097</td>\n",
       "      <td>5830</td>\n",
       "      <td>[funnier]</td>\n",
       "      <td>2</td>\n",
       "    </tr>\n",
       "    <tr>\n",
       "      <th>86402</th>\n",
       "      <td>86403</td>\n",
       "      <td>4473</td>\n",
       "      <td>[nt, capture, effect, tragic, deaths, hiphop, ...</td>\n",
       "      <td>1</td>\n",
       "    </tr>\n",
       "    <tr>\n",
       "      <th>147052</th>\n",
       "      <td>147053</td>\n",
       "      <td>8003</td>\n",
       "      <td>[cursing]</td>\n",
       "      <td>1</td>\n",
       "    </tr>\n",
       "    <tr>\n",
       "      <th>64967</th>\n",
       "      <td>64968</td>\n",
       "      <td>3287</td>\n",
       "      <td>[pointed, political, allegory]</td>\n",
       "      <td>2</td>\n",
       "    </tr>\n",
       "  </tbody>\n",
       "</table>\n",
       "</div>"
      ],
      "text/plain": [
       "        PhraseId  SentenceId  \\\n",
       "53075      53076        2632   \n",
       "66682      66683        3384   \n",
       "46817      46818        2279   \n",
       "86101      86102        4457   \n",
       "37922      37923        1803   \n",
       "85602      85603        4427   \n",
       "110096    110097        5830   \n",
       "86402      86403        4473   \n",
       "147052    147053        8003   \n",
       "64967      64968        3287   \n",
       "\n",
       "                                                   Phrase  Sentiment  \n",
       "53075                                               [one]          1  \n",
       "66682         [carrying, bag, golf, clubs, one, shoulder]          2  \n",
       "46817   [made, film, undeniably, worthy, devastating, ...          3  \n",
       "86101   [myers, turned, franchise, movie, version, ado...          2  \n",
       "37922                               [pretty, good, thing]          3  \n",
       "85602   [jaunt, memory, lane, teens, young, adults, gr...          2  \n",
       "110096                                          [funnier]          2  \n",
       "86402   [nt, capture, effect, tragic, deaths, hiphop, ...          1  \n",
       "147052                                          [cursing]          1  \n",
       "64967                      [pointed, political, allegory]          2  "
      ]
     },
     "execution_count": 11,
     "metadata": {},
     "output_type": "execute_result"
    }
   ],
   "source": [
    "# nltk.download('stopwords')\n",
    "from nltk.corpus import stopwords\n",
    "def remove_stopwords(text):\n",
    "    words=[w for w in text if w not in stopwords.words('english')]\n",
    "    return words\n",
    "data.Phrase=data.Phrase.apply(lambda x: remove_stopwords(x))\n",
    "data.head(10)"
   ]
  },
  {
   "cell_type": "code",
   "execution_count": 12,
   "metadata": {},
   "outputs": [
    {
     "data": {
      "image/png": "[encoded data removed]",
      "text/plain": [
       "<matplotlib.figure.Figure at 0x1a9df58fcc0>"
      ]
     },
     "metadata": {},
     "output_type": "display_data"
    }
   ],
   "source": [
    "fdist=data.Phrase.values\n",
    "dist=FreqDist(word.lower() for l in list(fdist) for word in l)\n",
    "plt.barh(*zip(*dist.most_common(n=20)));\n",
    "plt.show();"
   ]
  },
  {
   "cell_type": "code",
   "execution_count": 13,
   "metadata": {},
   "outputs": [
    {
     "data": {
      "text/html": [
       "<div>\n",
       "<style>\n",
       "    .dataframe thead tr:only-child th {\n",
       "        text-align: right;\n",
       "    }\n",
       "\n",
       "    .dataframe thead th {\n",
       "        text-align: left;\n",
       "    }\n",
       "\n",
       "    .dataframe tbody tr th {\n",
       "        vertical-align: top;\n",
       "    }\n",
       "</style>\n",
       "<table border=\"1\" class=\"dataframe\">\n",
       "  <thead>\n",
       "    <tr style=\"text-align: right;\">\n",
       "      <th></th>\n",
       "      <th>PhraseId</th>\n",
       "      <th>SentenceId</th>\n",
       "      <th>Phrase</th>\n",
       "      <th>Sentiment</th>\n",
       "    </tr>\n",
       "  </thead>\n",
       "  <tbody>\n",
       "    <tr>\n",
       "      <th>53075</th>\n",
       "      <td>53076</td>\n",
       "      <td>2632</td>\n",
       "      <td>one</td>\n",
       "      <td>1</td>\n",
       "    </tr>\n",
       "    <tr>\n",
       "      <th>66682</th>\n",
       "      <td>66683</td>\n",
       "      <td>3384</td>\n",
       "      <td>carry bag golf club one shoulder</td>\n",
       "      <td>2</td>\n",
       "    </tr>\n",
       "    <tr>\n",
       "      <th>46817</th>\n",
       "      <td>46818</td>\n",
       "      <td>2279</td>\n",
       "      <td>make film undeniably worthy devastate experience</td>\n",
       "      <td>3</td>\n",
       "    </tr>\n",
       "    <tr>\n",
       "      <th>86101</th>\n",
       "      <td>86102</td>\n",
       "      <td>4457</td>\n",
       "      <td>myers turn franchise movie version adolescent ...</td>\n",
       "      <td>2</td>\n",
       "    </tr>\n",
       "    <tr>\n",
       "      <th>37922</th>\n",
       "      <td>37923</td>\n",
       "      <td>1803</td>\n",
       "      <td>pretty good thing</td>\n",
       "      <td>3</td>\n",
       "    </tr>\n",
       "    <tr>\n",
       "      <th>85602</th>\n",
       "      <td>85603</td>\n",
       "      <td>4427</td>\n",
       "      <td>jaunt memory lane teens young adults grow tele...</td>\n",
       "      <td>2</td>\n",
       "    </tr>\n",
       "    <tr>\n",
       "      <th>110096</th>\n",
       "      <td>110097</td>\n",
       "      <td>5830</td>\n",
       "      <td>funnier</td>\n",
       "      <td>2</td>\n",
       "    </tr>\n",
       "    <tr>\n",
       "      <th>86402</th>\n",
       "      <td>86403</td>\n",
       "      <td>4473</td>\n",
       "      <td>nt capture effect tragic deaths hiphop culture</td>\n",
       "      <td>1</td>\n",
       "    </tr>\n",
       "    <tr>\n",
       "      <th>147052</th>\n",
       "      <td>147053</td>\n",
       "      <td>8003</td>\n",
       "      <td>curse</td>\n",
       "      <td>1</td>\n",
       "    </tr>\n",
       "    <tr>\n",
       "      <th>64967</th>\n",
       "      <td>64968</td>\n",
       "      <td>3287</td>\n",
       "      <td>point political allegory</td>\n",
       "      <td>2</td>\n",
       "    </tr>\n",
       "  </tbody>\n",
       "</table>\n",
       "</div>"
      ],
      "text/plain": [
       "        PhraseId  SentenceId  \\\n",
       "53075      53076        2632   \n",
       "66682      66683        3384   \n",
       "46817      46818        2279   \n",
       "86101      86102        4457   \n",
       "37922      37923        1803   \n",
       "85602      85603        4427   \n",
       "110096    110097        5830   \n",
       "86402      86403        4473   \n",
       "147052    147053        8003   \n",
       "64967      64968        3287   \n",
       "\n",
       "                                                   Phrase  Sentiment  \n",
       "53075                                                 one          1  \n",
       "66682                    carry bag golf club one shoulder          2  \n",
       "46817    make film undeniably worthy devastate experience          3  \n",
       "86101   myers turn franchise movie version adolescent ...          2  \n",
       "37922                                   pretty good thing          3  \n",
       "85602   jaunt memory lane teens young adults grow tele...          2  \n",
       "110096                                            funnier          2  \n",
       "86402      nt capture effect tragic deaths hiphop culture          1  \n",
       "147052                                              curse          1  \n",
       "64967                            point political allegory          2  "
      ]
     },
     "execution_count": 13,
     "metadata": {},
     "output_type": "execute_result"
    }
   ],
   "source": [
    "from nltk.stem.wordnet import WordNetLemmatizer\n",
    "lemmatizer=WordNetLemmatizer()\n",
    "def word_lemmatizer(text):\n",
    "    lem_text=' '.join([lemmatizer.lemmatize(i,pos='v') for i in text])\n",
    "    return lem_text\n",
    "data.Phrase=data.Phrase.apply(lambda x: word_lemmatizer(x))\n",
    "data.head(10)"
   ]
  },
  {
   "cell_type": "code",
   "execution_count": 14,
   "metadata": {
    "scrolled": true
   },
   "outputs": [
    {
     "name": "stdout",
     "output_type": "stream",
     "text": [
      "Total unique words: 12583\n"
     ]
    },
    {
     "data": {
      "image/png": "[encoded data removed]",
      "text/plain": [
       "<matplotlib.figure.Figure at 0x1a9f1c0a278>"
      ]
     },
     "metadata": {},
     "output_type": "display_data"
    }
   ],
   "source": [
    "d=vect.fit_transform(data.Phrase)\n",
    "print('Total unique words:', len(vect.get_feature_names()))\n",
    "fdist_list=list(data.Phrase.values)\n",
    "fdist_lt=[i.split(' ') for i in fdist_list]\n",
    "dist=FreqDist(word.lower() for l in fdist_lt for word in l)\n",
    "plt.barh(*zip(*dist.most_common(n=20)));\n",
    "plt.show();"
   ]
  },
  {
   "cell_type": "code",
   "execution_count": 15,
   "metadata": {
    "collapsed": true
   },
   "outputs": [],
   "source": [
    "# from sklearn.model_selection import train_test_split\n",
    "# X_train, X_test, y_train, y_test = train_test_split\n",
    "# ( data.Phrase, data.Sentiment,random_state=42, test_size=0.3, \n",
    "#                         shuffle=True, stratify=data.Sentiment)\n",
    "# X_train.head()"
   ]
  },
  {
   "cell_type": "code",
   "execution_count": 16,
   "metadata": {
    "collapsed": true
   },
   "outputs": [],
   "source": [
    "from sklearn.model_selection import cross_val_score\n",
    "from sklearn import metrics\n",
    "from sklearn.pipeline import Pipeline\n",
    "from sklearn.feature_extraction.text import TfidfTransformer"
   ]
  },
  {
   "cell_type": "code",
   "execution_count": 18,
   "metadata": {},
   "outputs": [
    {
     "name": "stdout",
     "output_type": "stream",
     "text": [
      "CV Score for each fold: [ 0.5024735   0.49540636  0.50084866  0.51103253  0.49759547]\n"
     ]
    },
    {
     "name": "stderr",
     "output_type": "stream",
     "text": [
      "C:\\Users\\Hp\\Anaconda3\\lib\\site-packages\\sklearn\\linear_model\\stochastic_gradient.py:128: FutureWarning: max_iter and tol parameters have been added in <class 'sklearn.linear_model.stochastic_gradient.SGDClassifier'> in 0.19. If both are left unset, they default to max_iter=5 and tol=None. If tol is not None, max_iter defaults to max_iter=1000. From 0.21, default max_iter will be 1000, and default tol will be 1e-3.\n",
      "  \"and default tol will be 1e-3.\" % type(self), FutureWarning)\n"
     ]
    },
    {
     "name": "stdout",
     "output_type": "stream",
     "text": [
      "SVM train:              precision    recall  f1-score   support\n",
      "\n",
      "          0       0.65      0.84      0.74      7072\n",
      "          1       0.70      0.54      0.61      7072\n",
      "          2       0.78      0.67      0.72      7072\n",
      "          3       0.72      0.44      0.55      7072\n",
      "          4       0.60      0.89      0.72      7072\n",
      "\n",
      "avg / total       0.69      0.68      0.67     35360\n",
      "\n"
     ]
    }
   ],
   "source": [
    "from sklearn.linear_model import SGDClassifier\n",
    "pipe = Pipeline([('vect', CountVectorizer()),('tfidf', TfidfTransformer()),\n",
    "                         ('svm', SGDClassifier(loss='hinge', penalty='l2',\n",
    "                            alpha=1e-3, random_state=42)),])\n",
    "svm_cv = cross_val_score(pipe, data.Phrase, y=data.Sentiment, n_jobs=-1,cv=5)\n",
    "print(\"CV Score for each fold:\", svm_cv)\n",
    "pipe.fit(data.Phrase, data.Sentiment)\n",
    "print(\"SVM train:\",metrics.classification_report(data.Sentiment, pipe.predict(data.Phrase)))\n",
    "# print(\"SVM test:\",metrics.classification_report(y_test, pipe.predict(X_test)))\n",
    "# print(metrics.confusion_matrix(y_test,pipe.predict(X_test)))"
   ]
  },
  {
   "cell_type": "code",
   "execution_count": 19,
   "metadata": {},
   "outputs": [
    {
     "name": "stdout",
     "output_type": "stream",
     "text": [
      "CV Score for each fold: [ 0.47321555  0.47208481  0.46633663  0.46916549  0.4718529 ]\n",
      "LGBM train:              precision    recall  f1-score   support\n",
      "\n",
      "          0       0.69      0.62      0.65      7072\n",
      "          1       0.51      0.38      0.43      7072\n",
      "          2       0.43      0.73      0.55      7072\n",
      "          3       0.55      0.35      0.43      7072\n",
      "          4       0.66      0.69      0.67      7072\n",
      "\n",
      "avg / total       0.57      0.55      0.54     35360\n",
      "\n"
     ]
    }
   ],
   "source": [
    "import lightgbm as LGBM\n",
    "clf_lgbm = Pipeline([('vect', CountVectorizer()),('tfidf', TfidfTransformer()),\n",
    "                         ('clf-lgbm', LGBM.LGBMClassifier(random_state=42,n_jobs=-1,)),])\n",
    "lgbm_cv = cross_val_score(clf_lgbm, data.Phrase, y=data.Sentiment, n_jobs=-1,cv=5)\n",
    "print(\"CV Score for each fold:\", lgbm_cv)\n",
    "clf_lgbm.fit(data.Phrase, data.Sentiment)\n",
    "print(\"LGBM train:\",metrics.classification_report(data.Sentiment, clf_lgbm.predict(data.Phrase)))\n",
    "# print(\"LGBM test:\",metrics.classification_report(y_test,clf_lgbm.predict(X_test)))"
   ]
  },
  {
   "cell_type": "code",
   "execution_count": 20,
   "metadata": {},
   "outputs": [
    {
     "name": "stdout",
     "output_type": "stream",
     "text": [
      "CV Score for each fold: [ 0.52254417  0.51293286  0.52545969  0.52899576  0.51966054]\n",
      "LR train:              precision    recall  f1-score   support\n",
      "\n",
      "          0       0.73      0.79      0.76      7072\n",
      "          1       0.68      0.60      0.64      7072\n",
      "          2       0.68      0.73      0.70      7072\n",
      "          3       0.67      0.57      0.61      7072\n",
      "          4       0.72      0.81      0.76      7072\n",
      "\n",
      "avg / total       0.70      0.70      0.69     35360\n",
      "\n"
     ]
    }
   ],
   "source": [
    "from sklearn.linear_model import LogisticRegression\n",
    "clf_LR = Pipeline([('vect', CountVectorizer()),('tfidf', TfidfTransformer()),\n",
    "                         ('clf-LR', LogisticRegression(random_state=42)),])\n",
    "LR_cv = cross_val_score(clf_LR, data.Phrase, y=data.Sentiment, n_jobs=-1,cv=5)\n",
    "print(\"CV Score for each fold:\", LR_cv)\n",
    "clf_LR.fit(data.Phrase, data.Sentiment)\n",
    "print(\"LR train:\",metrics.classification_report(data.Sentiment, clf_LR.predict(data.Phrase)))\n",
    "# print(\"LR test:\",metrics.classification_report(y_test, clf_LR.predict(X_test)))\n",
    "# print(metrics.confusion_matrix(y_test,clf_LR.predict(X_test)))"
   ]
  },
  {
   "cell_type": "code",
   "execution_count": 21,
   "metadata": {
    "scrolled": false
   },
   "outputs": [
    {
     "name": "stdout",
     "output_type": "stream",
     "text": [
      "best_parameters:  {'tfidf__norm': 'l2', 'tfidf__use_idf': True, 'vect__ngram_range': (1, 2)}\n",
      "LGBM train:              precision    recall  f1-score   support\n",
      "\n",
      "          0       0.80      0.84      0.82      7072\n",
      "          1       0.78      0.73      0.75      7072\n",
      "          2       0.79      0.81      0.80      7072\n",
      "          3       0.78      0.70      0.74      7072\n",
      "          4       0.79      0.86      0.82      7072\n",
      "\n",
      "avg / total       0.79      0.79      0.79     35360\n",
      "\n"
     ]
    }
   ],
   "source": [
    "from sklearn.model_selection import GridSearchCV\n",
    "para={'vect__ngram_range': [(1,1),(1,2)],\n",
    "     'tfidf__norm': ['l1','l2'],\n",
    "      'tfidf__use_idf': [True,False],}\n",
    "LR_gs = GridSearchCV(clf_LR, param_grid=para, n_jobs=-1, cv=5)\n",
    "LR_gs.fit(data.Phrase, data.Sentiment);\n",
    "print('best_parameters: ',LR_gs.best_params_)\n",
    "print(\"LGBM train:\",metrics.classification_report(data.Sentiment, LR_gs.predict(data.Phrase)))\n",
    "# print(\"LGBM test:\",metrics.classification_report(y_test,LR_gs.predict(X_test)))"
   ]
  },
  {
   "cell_type": "code",
   "execution_count": null,
   "metadata": {
    "collapsed": true
   },
   "outputs": [],
   "source": []
  },
  {
   "cell_type": "code",
   "execution_count": null,
   "metadata": {
    "collapsed": true
   },
   "outputs": [],
   "source": []
  },
  {
   "cell_type": "code",
   "execution_count": null,
   "metadata": {
    "collapsed": true
   },
   "outputs": [],
   "source": []
  },
  {
   "cell_type": "code",
   "execution_count": null,
   "metadata": {
    "collapsed": true
   },
   "outputs": [],
   "source": []
  }
 ],
 "metadata": {
  "kernelspec": {
   "display_name": "Python 3",
   "language": "python",
   "name": "python3"
  },
  "language_info": {
   "codemirror_mode": {
    "name": "ipython",
    "version": 3
   },
   "file_extension": ".py",
   "mimetype": "text/x-python",
   "name": "python",
   "nbconvert_exporter": "python",
   "pygments_lexer": "ipython3",
   "version": "3.6.3"
  }
 },
 "nbformat": 4,
 "nbformat_minor": 2
}
