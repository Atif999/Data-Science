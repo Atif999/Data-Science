{
 "cells": [
  {
   "cell_type": "code",
   "execution_count": 1,
   "metadata": {},
   "outputs": [],
   "source": [
    "import pandas as pd\n",
    "from sklearn.feature_extraction.text import TfidfVectorizer\n",
    "from sklearn.metrics.pairwise import linear_kernel\n",
    "import matplotlib.pyplot as plt\n",
    "%matplotlib inline"
   ]
  },
  {
   "cell_type": "code",
   "execution_count": 2,
   "metadata": {},
   "outputs": [
    {
     "data": {
      "text/html": [
       "<div>\n",
       "<style scoped>\n",
       "    .dataframe tbody tr th:only-of-type {\n",
       "        vertical-align: middle;\n",
       "    }\n",
       "\n",
       "    .dataframe tbody tr th {\n",
       "        vertical-align: top;\n",
       "    }\n",
       "\n",
       "    .dataframe thead th {\n",
       "        text-align: right;\n",
       "    }\n",
       "</style>\n",
       "<table border=\"1\" class=\"dataframe\">\n",
       "  <thead>\n",
       "    <tr style=\"text-align: right;\">\n",
       "      <th></th>\n",
       "      <th>id</th>\n",
       "      <th>description</th>\n",
       "    </tr>\n",
       "  </thead>\n",
       "  <tbody>\n",
       "    <tr>\n",
       "      <th>0</th>\n",
       "      <td>1</td>\n",
       "      <td>Active classic boxers - There's a reason why o...</td>\n",
       "    </tr>\n",
       "    <tr>\n",
       "      <th>1</th>\n",
       "      <td>2</td>\n",
       "      <td>Active sport boxer briefs - Skinning up Glory ...</td>\n",
       "    </tr>\n",
       "    <tr>\n",
       "      <th>2</th>\n",
       "      <td>3</td>\n",
       "      <td>Active sport briefs - These superbreathable no...</td>\n",
       "    </tr>\n",
       "    <tr>\n",
       "      <th>3</th>\n",
       "      <td>4</td>\n",
       "      <td>Alpine guide pants - Skin in, climb ice, switc...</td>\n",
       "    </tr>\n",
       "    <tr>\n",
       "      <th>4</th>\n",
       "      <td>5</td>\n",
       "      <td>Alpine wind jkt - On high ridges, steep ice an...</td>\n",
       "    </tr>\n",
       "  </tbody>\n",
       "</table>\n",
       "</div>"
      ],
      "text/plain": [
       "   id                                        description\n",
       "0   1  Active classic boxers - There's a reason why o...\n",
       "1   2  Active sport boxer briefs - Skinning up Glory ...\n",
       "2   3  Active sport briefs - These superbreathable no...\n",
       "3   4  Alpine guide pants - Skin in, climb ice, switc...\n",
       "4   5  Alpine wind jkt - On high ridges, steep ice an..."
      ]
     },
     "execution_count": 2,
     "metadata": {},
     "output_type": "execute_result"
    }
   ],
   "source": [
    "ds = pd.read_csv(\"sample-data.csv\")\n",
    "ds.head()"
   ]
  },
  {
   "cell_type": "code",
   "execution_count": 3,
   "metadata": {},
   "outputs": [
    {
     "name": "stdout",
     "output_type": "stream",
     "text": [
      "unique words:  9844\n"
     ]
    },
    {
     "data": {
      "text/plain": [
       "'Active classic boxers - There\\'s a reason why our boxers are a cult favorite - they keep their cool, especially in sticky situations. The quick-drying, lightweight underwear takes up minimal space in a travel pack. An exposed, brushed waistband offers next-to-skin softness, five-panel construction with a traditional boxer back for a classic fit, and a functional fly. Made of 3.7-oz 100% recycled polyester with moisture-wicking performance. Inseam (size M) is 4 1/2\". Recyclable through the Common Threads Recycling Program.<br><br><b>Details:</b><ul> <li>\"Silky Capilene 1 fabric is ultralight, breathable and quick-to-dry\"</li> <li>\"Exposed, brushed elastic waistband for comfort\"</li> <li>5-panel construction with traditional boxer back</li> <li>\"Inseam (size M) is 4 1/2\"\"\"</li></ul><br><br><b>Fabric: </b>3.7-oz 100% all-recycled polyester with Gladiodor natural odor control for the garment. Recyclable through the Common Threads Recycling Program<br><br><b>Weight: </b>99 g (3.5 oz)<br><br>Made in Mexico.'"
      ]
     },
     "execution_count": 3,
     "metadata": {},
     "output_type": "execute_result"
    }
   ],
   "source": [
    "print('unique words: ', len(ds['description'].str.split(' ', expand=True).stack().unique()))\n",
    "ds.description.values[0]"
   ]
  },
  {
   "cell_type": "code",
   "execution_count": 4,
   "metadata": {},
   "outputs": [
    {
     "data": {
      "text/html": [
       "<div>\n",
       "<style scoped>\n",
       "    .dataframe tbody tr th:only-of-type {\n",
       "        vertical-align: middle;\n",
       "    }\n",
       "\n",
       "    .dataframe tbody tr th {\n",
       "        vertical-align: top;\n",
       "    }\n",
       "\n",
       "    .dataframe thead th {\n",
       "        text-align: right;\n",
       "    }\n",
       "</style>\n",
       "<table border=\"1\" class=\"dataframe\">\n",
       "  <thead>\n",
       "    <tr style=\"text-align: right;\">\n",
       "      <th></th>\n",
       "      <th>id</th>\n",
       "      <th>description</th>\n",
       "      <th>title</th>\n",
       "    </tr>\n",
       "  </thead>\n",
       "  <tbody>\n",
       "    <tr>\n",
       "      <th>0</th>\n",
       "      <td>1</td>\n",
       "      <td>There's a reason why our boxers are a cult fav...</td>\n",
       "      <td>Active classic boxers</td>\n",
       "    </tr>\n",
       "    <tr>\n",
       "      <th>1</th>\n",
       "      <td>2</td>\n",
       "      <td>Skinning up Glory requires enough movement wit...</td>\n",
       "      <td>Active sport boxer briefs</td>\n",
       "    </tr>\n",
       "    <tr>\n",
       "      <th>2</th>\n",
       "      <td>3</td>\n",
       "      <td>These superbreathable no-fly briefs are the mi...</td>\n",
       "      <td>Active sport briefs</td>\n",
       "    </tr>\n",
       "    <tr>\n",
       "      <th>3</th>\n",
       "      <td>4</td>\n",
       "      <td>Skin in, climb ice, switch to rock, traverse a...</td>\n",
       "      <td>Alpine guide pants</td>\n",
       "    </tr>\n",
       "    <tr>\n",
       "      <th>4</th>\n",
       "      <td>5</td>\n",
       "      <td>On high ridges, steep ice and anything alpine,...</td>\n",
       "      <td>Alpine wind jkt</td>\n",
       "    </tr>\n",
       "  </tbody>\n",
       "</table>\n",
       "</div>"
      ],
      "text/plain": [
       "   id                                        description  \\\n",
       "0   1  There's a reason why our boxers are a cult fav...   \n",
       "1   2  Skinning up Glory requires enough movement wit...   \n",
       "2   3  These superbreathable no-fly briefs are the mi...   \n",
       "3   4  Skin in, climb ice, switch to rock, traverse a...   \n",
       "4   5  On high ridges, steep ice and anything alpine,...   \n",
       "\n",
       "                       title  \n",
       "0      Active classic boxers  \n",
       "1  Active sport boxer briefs  \n",
       "2        Active sport briefs  \n",
       "3         Alpine guide pants  \n",
       "4            Alpine wind jkt  "
      ]
     },
     "execution_count": 4,
     "metadata": {},
     "output_type": "execute_result"
    }
   ],
   "source": [
    "ds['title']=ds['description'].apply(lambda x: x.split(' - ',1)[0])\n",
    "ds['description']=ds['description'].apply(lambda x: x.split(' - ',1)[1])\n",
    "ds.head()"
   ]
  },
  {
   "cell_type": "code",
   "execution_count": 5,
   "metadata": {},
   "outputs": [
    {
     "data": {
      "text/plain": [
       "False"
      ]
     },
     "execution_count": 5,
     "metadata": {},
     "output_type": "execute_result"
    }
   ],
   "source": [
    "ds[['description','title']].duplicated().any()"
   ]
  },
  {
   "cell_type": "code",
   "execution_count": 6,
   "metadata": {},
   "outputs": [
    {
     "data": {
      "image/png": "[encoded data removed]",
      "text/plain": [
       "<Figure size 432x288 with 1 Axes>"
      ]
     },
     "metadata": {
      "needs_background": "light"
     },
     "output_type": "display_data"
    }
   ],
   "source": [
    "from nltk.probability import FreqDist\n",
    "fdist=ds.description.values\n",
    "dist=FreqDist(word.lower() for l in list(fdist) for word in l.split(' '))\n",
    "plt.barh(*zip(*dist.most_common(n=20)));"
   ]
  },
  {
   "cell_type": "code",
   "execution_count": 7,
   "metadata": {},
   "outputs": [
    {
     "name": "stdout",
     "output_type": "stream",
     "text": [
      "unique words:  9149\n"
     ]
    },
    {
     "data": {
      "text/plain": [
       "'There\\'s a reason why our boxers are a cult favorite - they keep their cool, especially in sticky situations. The quick-drying, lightweight underwear takes up minimal space in a travel pack. An exposed, brushed waistband offers next-to-skin softness, five-panel construction with a traditional boxer back for a classic fit, and a functional fly. Made of 3.7-oz 100% recycled polyester with moisture-wicking performance. Inseam (size M) is 4 1/2\". Recyclable through the Common Threads Recycling Program.Details: \"Silky Capilene 1 fabric is ultralight, breathable and quick-to-dry\" \"Exposed, brushed elastic waistband for comfort\" 5-panel construction with traditional boxer back \"Inseam (size M) is 4 1/2\"\"\"Fabric: 3.7-oz 100% all-recycled polyester with Gladiodor natural odor control for the garment. Recyclable through the Common Threads Recycling ProgramWeight: 99 g (3.5 oz)Made in Mexico.'"
      ]
     },
     "execution_count": 7,
     "metadata": {},
     "output_type": "execute_result"
    }
   ],
   "source": [
    "from bs4 import BeautifulSoup\n",
    "ds.description=ds.description.apply(lambda x: \n",
    "                BeautifulSoup(x).get_text())\n",
    "print('unique words: ', len(ds['description'].str.\n",
    "            split(' ', expand=True).stack().unique()))\n",
    "fdist[0]"
   ]
  },
  {
   "cell_type": "code",
   "execution_count": 8,
   "metadata": {
    "scrolled": true
   },
   "outputs": [
    {
     "data": {
      "image/png": "[encoded data removed]",
      "text/plain": [
       "<Figure size 432x288 with 1 Axes>"
      ]
     },
     "metadata": {
      "needs_background": "light"
     },
     "output_type": "display_data"
    }
   ],
   "source": [
    "fdist=ds.description.values\n",
    "dist=FreqDist(word.lower() for l in list(fdist) for word in l.split(' '))\n",
    "plt.barh(*zip(*dist.most_common(n=20)));"
   ]
  },
  {
   "cell_type": "code",
   "execution_count": 9,
   "metadata": {},
   "outputs": [
    {
     "name": "stdout",
     "output_type": "stream",
     "text": [
      "unique words after removing punctuation:  6687\n",
      "unique words after lemmatizing:  5974\n"
     ]
    },
    {
     "data": {
      "text/html": [
       "<div>\n",
       "<style scoped>\n",
       "    .dataframe tbody tr th:only-of-type {\n",
       "        vertical-align: middle;\n",
       "    }\n",
       "\n",
       "    .dataframe tbody tr th {\n",
       "        vertical-align: top;\n",
       "    }\n",
       "\n",
       "    .dataframe thead th {\n",
       "        text-align: right;\n",
       "    }\n",
       "</style>\n",
       "<table border=\"1\" class=\"dataframe\">\n",
       "  <thead>\n",
       "    <tr style=\"text-align: right;\">\n",
       "      <th></th>\n",
       "      <th>id</th>\n",
       "      <th>description</th>\n",
       "      <th>title</th>\n",
       "    </tr>\n",
       "  </thead>\n",
       "  <tbody>\n",
       "    <tr>\n",
       "      <th>0</th>\n",
       "      <td>1</td>\n",
       "      <td>Theres a reason why our boxers be a cult favor...</td>\n",
       "      <td>Active classic boxers</td>\n",
       "    </tr>\n",
       "    <tr>\n",
       "      <th>1</th>\n",
       "      <td>2</td>\n",
       "      <td>Skinning up Glory require enough movement with...</td>\n",
       "      <td>Active sport boxer briefs</td>\n",
       "    </tr>\n",
       "    <tr>\n",
       "      <th>2</th>\n",
       "      <td>3</td>\n",
       "      <td>These superbreathable nofly brief be the minim...</td>\n",
       "      <td>Active sport briefs</td>\n",
       "    </tr>\n",
       "    <tr>\n",
       "      <th>3</th>\n",
       "      <td>4</td>\n",
       "      <td>Skin in climb ice switch to rock traverse a kn...</td>\n",
       "      <td>Alpine guide pants</td>\n",
       "    </tr>\n",
       "    <tr>\n",
       "      <th>4</th>\n",
       "      <td>5</td>\n",
       "      <td>On high ridge steep ice and anything alpine th...</td>\n",
       "      <td>Alpine wind jkt</td>\n",
       "    </tr>\n",
       "  </tbody>\n",
       "</table>\n",
       "</div>"
      ],
      "text/plain": [
       "   id                                        description  \\\n",
       "0   1  Theres a reason why our boxers be a cult favor...   \n",
       "1   2  Skinning up Glory require enough movement with...   \n",
       "2   3  These superbreathable nofly brief be the minim...   \n",
       "3   4  Skin in climb ice switch to rock traverse a kn...   \n",
       "4   5  On high ridge steep ice and anything alpine th...   \n",
       "\n",
       "                       title  \n",
       "0      Active classic boxers  \n",
       "1  Active sport boxer briefs  \n",
       "2        Active sport briefs  \n",
       "3         Alpine guide pants  \n",
       "4            Alpine wind jkt  "
      ]
     },
     "execution_count": 9,
     "metadata": {},
     "output_type": "execute_result"
    }
   ],
   "source": [
    "import string\n",
    "from nltk.stem.wordnet import WordNetLemmatizer\n",
    "lemmatizer=WordNetLemmatizer()\n",
    "ds.description=ds.description.apply(lambda x:\n",
    "        ''.join([c for c in x if c not in string.punctuation]))\n",
    "print('unique words after removing punctuation: ', \n",
    "        len(ds['description'].str.split(' ', expand=True).stack().unique()))\n",
    "ds.description=ds.description.apply(lambda x:\n",
    "        ' '.join([lemmatizer.lemmatize(i,pos='v') for i in x.split(' ')]))\n",
    "print('unique words after lemmatizing: ',\n",
    "      len(ds['description'].str.split(' ', expand=True).stack().unique()))\n",
    "ds.head()"
   ]
  },
  {
   "cell_type": "code",
   "execution_count": 10,
   "metadata": {},
   "outputs": [
    {
     "data": {
      "text/plain": [
       "(500, 500)"
      ]
     },
     "execution_count": 10,
     "metadata": {},
     "output_type": "execute_result"
    }
   ],
   "source": [
    "tf = TfidfVectorizer(analyzer='word', min_df=0, \n",
    "                     ngram_range=(1, 1),stop_words='english')\n",
    "tfidf_matrix = tf.fit_transform(ds['description'])\n",
    "cosine_similarities = linear_kernel(tfidf_matrix, tfidf_matrix)\n",
    "cosine_similarities.shape"
   ]
  },
  {
   "cell_type": "code",
   "execution_count": 11,
   "metadata": {},
   "outputs": [],
   "source": [
    "results = {}\n",
    "for idx in range(ds.shape[0]):\n",
    "    similar_indices = cosine_similarities[idx].argsort()[:-100:-1]\n",
    "    similar_items = [(cosine_similarities[idx][i], \n",
    "                      ds['id'][i]) for i in similar_indices]\n",
    "\n",
    "    results[ds.loc[idx,'id']] = similar_items[1:]"
   ]
  },
  {
   "cell_type": "code",
   "execution_count": 12,
   "metadata": {},
   "outputs": [],
   "source": [
    "def recommend(item_id, num, result):\n",
    "    print(\"Recommending \" + str(num) + \" products similar to \" + \n",
    "          ds.loc[ds['id'] == item_id]['title'].tolist()[0] + \"...\")\n",
    "    print(\"---------------------------------------------------------------\")\n",
    "    recs = result[item_id][:num]\n",
    "    for rec in recs:\n",
    "        print(\"Recommended: \" + ds.loc[ds['id'] == rec[1]]['title'].tolist()[0]\n",
    "              + \" (score:\" + str(rec[0]) + \")\")"
   ]
  },
  {
   "cell_type": "code",
   "execution_count": 13,
   "metadata": {},
   "outputs": [
    {
     "name": "stdout",
     "output_type": "stream",
     "text": [
      "Recommending 5 products similar to Cap 1 graphic t-shirt...\n",
      "---------------------------------------------------------------\n",
      "Recommended: Cap 1 graphic t-shirt (score:0.8004655856820306)\n",
      "Recommended: Cap 1 graphic crew (score:0.7355441761215598)\n",
      "Recommended: Cap 1 crew (score:0.7156250259795652)\n",
      "Recommended: Cap 1 t-shirt (score:0.6958350039009054)\n",
      "Recommended: Cap 1 t-shirt (score:0.6771587938873325)\n"
     ]
    }
   ],
   "source": [
    "recommend(item_id=20, num=5, result=results)"
   ]
  },
  {
   "cell_type": "code",
   "execution_count": 14,
   "metadata": {},
   "outputs": [
    {
     "name": "stdout",
     "output_type": "stream",
     "text": [
      "unique words:  473\n"
     ]
    },
    {
     "data": {
      "image/png": "[encoded data removed]",
      "text/plain": [
       "<Figure size 432x288 with 1 Axes>"
      ]
     },
     "metadata": {
      "needs_background": "light"
     },
     "output_type": "display_data"
    }
   ],
   "source": [
    "fdist=ds.title.values\n",
    "dist=FreqDist(word.lower() for l in list(fdist) for word in l.split(' '))\n",
    "print('unique words: ', len(ds['title'].str.split(' ', expand=True).stack().unique()))\n",
    "plt.barh(*zip(*dist.most_common(n=20)));"
   ]
  },
  {
   "cell_type": "code",
   "execution_count": 15,
   "metadata": {},
   "outputs": [
    {
     "name": "stdout",
     "output_type": "stream",
     "text": [
      "unique words after removing punctuations:  471\n",
      "unique words after lemmatizing:  470\n"
     ]
    },
    {
     "data": {
      "text/html": [
       "<div>\n",
       "<style scoped>\n",
       "    .dataframe tbody tr th:only-of-type {\n",
       "        vertical-align: middle;\n",
       "    }\n",
       "\n",
       "    .dataframe tbody tr th {\n",
       "        vertical-align: top;\n",
       "    }\n",
       "\n",
       "    .dataframe thead th {\n",
       "        text-align: right;\n",
       "    }\n",
       "</style>\n",
       "<table border=\"1\" class=\"dataframe\">\n",
       "  <thead>\n",
       "    <tr style=\"text-align: right;\">\n",
       "      <th></th>\n",
       "      <th>id</th>\n",
       "      <th>description</th>\n",
       "      <th>title</th>\n",
       "    </tr>\n",
       "  </thead>\n",
       "  <tbody>\n",
       "    <tr>\n",
       "      <th>0</th>\n",
       "      <td>1</td>\n",
       "      <td>Theres a reason why our boxers be a cult favor...</td>\n",
       "      <td>Active classic boxers</td>\n",
       "    </tr>\n",
       "    <tr>\n",
       "      <th>1</th>\n",
       "      <td>2</td>\n",
       "      <td>Skinning up Glory require enough movement with...</td>\n",
       "      <td>Active sport boxer brief</td>\n",
       "    </tr>\n",
       "    <tr>\n",
       "      <th>2</th>\n",
       "      <td>3</td>\n",
       "      <td>These superbreathable nofly brief be the minim...</td>\n",
       "      <td>Active sport brief</td>\n",
       "    </tr>\n",
       "    <tr>\n",
       "      <th>3</th>\n",
       "      <td>4</td>\n",
       "      <td>Skin in climb ice switch to rock traverse a kn...</td>\n",
       "      <td>Alpine guide pant</td>\n",
       "    </tr>\n",
       "    <tr>\n",
       "      <th>4</th>\n",
       "      <td>5</td>\n",
       "      <td>On high ridge steep ice and anything alpine th...</td>\n",
       "      <td>Alpine wind jkt</td>\n",
       "    </tr>\n",
       "  </tbody>\n",
       "</table>\n",
       "</div>"
      ],
      "text/plain": [
       "   id                                        description  \\\n",
       "0   1  Theres a reason why our boxers be a cult favor...   \n",
       "1   2  Skinning up Glory require enough movement with...   \n",
       "2   3  These superbreathable nofly brief be the minim...   \n",
       "3   4  Skin in climb ice switch to rock traverse a kn...   \n",
       "4   5  On high ridge steep ice and anything alpine th...   \n",
       "\n",
       "                      title  \n",
       "0     Active classic boxers  \n",
       "1  Active sport boxer brief  \n",
       "2        Active sport brief  \n",
       "3         Alpine guide pant  \n",
       "4           Alpine wind jkt  "
      ]
     },
     "execution_count": 15,
     "metadata": {},
     "output_type": "execute_result"
    }
   ],
   "source": [
    "ds.title=ds.title.apply(lambda x:''.join([c for c in x if c not in string.punctuation]))\n",
    "print('unique words after removing punctuations: ', len(ds['title'].str.split(' ', expand=True).stack().unique()))\n",
    "ds.title=ds.title.apply(lambda x:' '.join([lemmatizer.lemmatize(i,pos='v') for i in x.split(' ')]))\n",
    "print('unique words after lemmatizing: ',len(ds['title'].str.split(' ', expand=True).stack().unique()))\n",
    "ds.head()"
   ]
  },
  {
   "cell_type": "code",
   "execution_count": 16,
   "metadata": {},
   "outputs": [
    {
     "data": {
      "text/plain": [
       "(500, 500)"
      ]
     },
     "execution_count": 16,
     "metadata": {},
     "output_type": "execute_result"
    }
   ],
   "source": [
    "tfidf_matrix2 = tf.fit_transform(ds['title'])\n",
    "cosine_similarities2 = linear_kernel(tfidf_matrix2, tfidf_matrix2)\n",
    "cosine_similarities2.shape"
   ]
  },
  {
   "cell_type": "code",
   "execution_count": 17,
   "metadata": {},
   "outputs": [],
   "source": [
    "results2 = {}\n",
    "for idx in range(ds.shape[0]):\n",
    "    similar_indices2 = cosine_similarities2[idx].argsort()[:-100:-1]\n",
    "    similar_items2 = [(cosine_similarities2[idx][i], ds['id'][i]) for i in similar_indices2]\n",
    "\n",
    "    results2[ds.loc[idx, 'id']] = similar_items2[1:]"
   ]
  },
  {
   "cell_type": "code",
   "execution_count": 18,
   "metadata": {},
   "outputs": [
    {
     "name": "stdout",
     "output_type": "stream",
     "text": [
      "Recommending 5 products similar to Cap 1 graphic tshirt...\n",
      "---------------------------------------------------------------\n",
      "Recommended: Cap 1 graphic tshirt (score:1.0)\n",
      "Recommended: Cap 1 graphic crew (score:0.7509072619887835)\n",
      "Recommended: Merino 1 graphic tshirt (score:0.6987926419192083)\n",
      "Recommended: Cap 1 graphic tee (score:0.6922859807917122)\n",
      "Recommended: Cap 2 tshirt (score:0.6520047984269309)\n"
     ]
    }
   ],
   "source": [
    "recommend(item_id=20, num=5, result=results2)"
   ]
  },
  {
   "cell_type": "code",
   "execution_count": null,
   "metadata": {},
   "outputs": [],
   "source": []
  },
  {
   "cell_type": "code",
   "execution_count": null,
   "metadata": {},
   "outputs": [],
   "source": []
  },
  {
   "cell_type": "code",
   "execution_count": null,
   "metadata": {},
   "outputs": [],
   "source": []
  },
  {
   "cell_type": "code",
   "execution_count": null,
   "metadata": {},
   "outputs": [],
   "source": []
  }
 ],
 "metadata": {
  "kernelspec": {
   "display_name": "Python 3",
   "language": "python",
   "name": "python3"
  },
  "language_info": {
   "codemirror_mode": {
    "name": "ipython",
    "version": 3
   },
   "file_extension": ".py",
   "mimetype": "text/x-python",
   "name": "python",
   "nbconvert_exporter": "python",
   "pygments_lexer": "ipython3",
   "version": "3.7.3"
  }
 },
 "nbformat": 4,
 "nbformat_minor": 2
}
